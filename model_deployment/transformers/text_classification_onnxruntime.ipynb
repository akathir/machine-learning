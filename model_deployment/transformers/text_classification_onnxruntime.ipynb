{
 "cells": [
  {
   "cell_type": "markdown",
   "metadata": {
    "toc": true
   },
   "source": [
    "<h1>Table of Contents<span class=\"tocSkip\"></span></h1>\n",
    "<div class=\"toc\"><ul class=\"toc-item\"><li><span><a href=\"#Finetuning-Pre-trained-BERT-Model-on-Text-Classification-Task-And-Inferencing-with-ONNX-Runtime\" data-toc-modified-id=\"Finetuning-Pre-trained-BERT-Model-on-Text-Classification-Task-And-Inferencing-with-ONNX-Runtime-1\"><span class=\"toc-item-num\">1&nbsp;&nbsp;</span>Finetuning Pre-trained BERT Model on Text Classification Task And Inferencing with ONNX Runtime</a></span><ul class=\"toc-item\"><li><span><a href=\"#Tokenizer\" data-toc-modified-id=\"Tokenizer-1.1\"><span class=\"toc-item-num\">1.1&nbsp;&nbsp;</span>Tokenizer</a></span></li><li><span><a href=\"#Model-FineTuning\" data-toc-modified-id=\"Model-FineTuning-1.2\"><span class=\"toc-item-num\">1.2&nbsp;&nbsp;</span>Model FineTuning</a></span></li><li><span><a href=\"#Onnx-Runtime\" data-toc-modified-id=\"Onnx-Runtime-1.3\"><span class=\"toc-item-num\">1.3&nbsp;&nbsp;</span>Onnx Runtime</a></span></li></ul></li><li><span><a href=\"#Reference\" data-toc-modified-id=\"Reference-2\"><span class=\"toc-item-num\">2&nbsp;&nbsp;</span>Reference</a></span></li></ul></div>"
   ]
  },
  {
   "cell_type": "code",
   "execution_count": 1,
   "metadata": {
    "ExecuteTime": {
     "end_time": "2021-06-14T10:56:25.769546Z",
     "start_time": "2021-06-14T10:56:25.566732Z"
    },
    "tags": []
   },
   "outputs": [
    {
     "data": {
      "text/html": [
       "\n",
       "<style>\n",
       "    html {\n",
       "        font-size: 18px !important;\n",
       "    }\n",
       "\n",
       "    body {\n",
       "        background-color: #FFF !important;\n",
       "        font-weight: 1rem;\n",
       "        font-family: 'Source Sans Pro', \"Helvetica Neue\", Helvetica, Arial, sans-serif;\n",
       "    }\n",
       "\n",
       "    body .notebook-app {\n",
       "        background-color: #FFF !important;\n",
       "    }\n",
       "\n",
       "    #header {\n",
       "        box-shadow: none !important;\n",
       "    }\n",
       "\n",
       "    #notebook {\n",
       "        padding-top: 0px;\n",
       "    }\n",
       "\n",
       "    #notebook-container {\n",
       "        box-shadow: none;\n",
       "        -webkit-box-shadow: none;\n",
       "        padding: 10px;\n",
       "    }\n",
       "\n",
       "    div.cell {\n",
       "        width: 1000px;\n",
       "        margin-left: 0% !important;\n",
       "        margin-right: auto;\n",
       "    }\n",
       "\n",
       "    div.cell.selected {\n",
       "        border: 1px dashed #CCCCCC;\n",
       "    }\n",
       "\n",
       "    .edit_mode div.cell.selected {\n",
       "        border: 1px dashed #828282;\n",
       "    }\n",
       "\n",
       "    div.output_wrapper {\n",
       "        margin-top: 8px;\n",
       "    }\n",
       "\n",
       "    a {\n",
       "        color: #383838;\n",
       "    }\n",
       "\n",
       "    code,\n",
       "    kbd,\n",
       "    pre,\n",
       "    samp {\n",
       "        font-family: 'Menlo', monospace !important;\n",
       "        font-size: 0.75rem !important;\n",
       "    }\n",
       "\n",
       "    h1 {\n",
       "        font-size: 2rem !important;\n",
       "        font-weight: 500 !important;\n",
       "        letter-spacing: 3px !important;\n",
       "        text-transform: uppercase !important;\n",
       "    }\n",
       "\n",
       "    h2 {\n",
       "        font-size: 1.8rem !important;\n",
       "        font-weight: 400 !important;\n",
       "        letter-spacing: 3px !important;\n",
       "        text-transform: none !important;\n",
       "    }\n",
       "\n",
       "    h3 {\n",
       "        font-size: 1.5rem !important;\n",
       "        font-weight: 400 !important;\n",
       "        font-style: italic !important;\n",
       "        display: block !important;\n",
       "    }\n",
       "\n",
       "    h4,\n",
       "    h5,\n",
       "    h6 {\n",
       "        font-size: 1rem !important;\n",
       "        font-weight: 400 !important;\n",
       "        display: block !important;\n",
       "    }\n",
       "\n",
       "    .prompt {\n",
       "        font-family: 'Menlo', monospace !important;\n",
       "        font-size: 0.75rem;\n",
       "        text-align: right;\n",
       "        line-height: 1.21429rem;\n",
       "    }\n",
       "\n",
       "    /* INTRO PAGE */\n",
       "\n",
       "    .toolbar_info,\n",
       "    .list-container {\n",
       "        ;\n",
       "    }\n",
       "    /* NOTEBOOK */\n",
       "\n",
       "    div#header-container {\n",
       "        display: none !important;\n",
       "    }\n",
       "\n",
       "    div#notebook {\n",
       "        border-top: none;\n",
       "        font-size: 1rem;\n",
       "    }\n",
       "\n",
       "    div.input_prompt {\n",
       "        color: #C74483;\n",
       "    }\n",
       "\n",
       "    .code_cell div.input_prompt:after,\n",
       "    div.output_prompt:after {\n",
       "        content: '\\25b6';\n",
       "    }\n",
       "\n",
       "    div.output_prompt {\n",
       "        color: #2B88D9;\n",
       "    }\n",
       "\n",
       "    div.input_area {\n",
       "        border-radius: 0px;\n",
       "        border: 1px solid #d8d8d8;\n",
       "    }\n",
       "\n",
       "    div.output_area pre {\n",
       "        font-weight: normal;\n",
       "    }\n",
       "\n",
       "    div.output_subarea {\n",
       "        font-weight: normal;\n",
       "    }\n",
       "\n",
       "    .rendered_html pre,\n",
       "    .rendered_html table,\n",
       "    .rendered_html th,\n",
       "    .rendered_html tr,\n",
       "    .rendered_html td {\n",
       "        border: 1px #828282 solid;\n",
       "        font-size: 0.75rem;\n",
       "        font-family: 'Menlo', monospace;\n",
       "    }\n",
       "\n",
       "    .rendered_html th,\n",
       "    .rendered_html tr,\n",
       "    .rendered_html td {\n",
       "        padding: 5px 10px;\n",
       "    }\n",
       "\n",
       "    .rendered_html th {\n",
       "        font-weight: normal;\n",
       "        background: #f8f8f8;\n",
       "    }\n",
       "\n",
       "    a:link{\n",
       "       font-weight: bold;\n",
       "       color:#447adb;\n",
       "    }\n",
       "    a:visited{\n",
       "       font-weight: bold;\n",
       "       color: #1d3b84;\n",
       "    }\n",
       "    a:hover{\n",
       "       font-weight: bold;\n",
       "       color: #1d3b84;\n",
       "    }\n",
       "    a:focus{\n",
       "       font-weight: bold;\n",
       "       color:#447adb;\n",
       "    }\n",
       "    a:active{\n",
       "       font-weight: bold;\n",
       "       color:#447adb;\n",
       "    }\n",
       "    .rendered_html :link {\n",
       "       text-decoration: underline; \n",
       "    }\n",
       "\n",
       "    div.output_html {\n",
       "        font-weight: 1rem;\n",
       "        font-family: 'Source Sans Pro', \"Helvetica Neue\", Helvetica, Arial, sans-serif;\n",
       "    }\n",
       "\n",
       "    table.dataframe tr {\n",
       "        border: 1px #CCCCCC;\n",
       "    }\n",
       "\n",
       "    div.cell.selected {\n",
       "        border-radius: 0px;\n",
       "    }\n",
       "\n",
       "    div.cell.edit_mode {\n",
       "        border-radius: 0px;\n",
       "        border: thin solid #CF5804;\n",
       "    }\n",
       "\n",
       "    span.ansiblue {\n",
       "        color: #00A397;\n",
       "    }\n",
       "\n",
       "    span.ansigray {\n",
       "        color: #d8d8d8;\n",
       "    }\n",
       "\n",
       "    span.ansigreen {\n",
       "        color: #688A0A;\n",
       "    }\n",
       "\n",
       "    span.ansipurple {\n",
       "        color: #975DDE;\n",
       "    }\n",
       "\n",
       "    span.ansired {\n",
       "        color: #D43132;\n",
       "    }\n",
       "\n",
       "    span.ansiyellow {\n",
       "        color: #D9AA00;\n",
       "    }\n",
       "\n",
       "    div.output_stderr {\n",
       "        background-color: #D43132;\n",
       "    }\n",
       "\n",
       "    div.output_stderr pre {\n",
       "        color: #e8e8e8;\n",
       "    }\n",
       "\n",
       "    .cm-s-ipython.CodeMirror {\n",
       "        background: #F8F8F8;\n",
       "    }\n",
       "\n",
       "    .cm-s-ipython div.CodeMirror-selected {\n",
       "        background: #e8e8e8 !important;\n",
       "    }\n",
       "\n",
       "    .cm-s-ipython .CodeMirror-gutters {\n",
       "        background: #F8F8F8;\n",
       "        border-right: 0px;\n",
       "    }\n",
       "\n",
       "    .cm-s-ipython .CodeMirror-linenumber {\n",
       "        color: #b8b8b8;\n",
       "    }\n",
       "\n",
       "    .cm-s-ipython .CodeMirror-cursor {\n",
       "        border-left: 1px solid #585858 !important;\n",
       "    }\n",
       "\n",
       "    .cm-s-ipython span.cm-atom {\n",
       "        color: #C74483;\n",
       "    }\n",
       "\n",
       "    .cm-s-ipython span.cm-number {\n",
       "        color: #C74483;\n",
       "    }\n",
       "\n",
       "    .cm-s-ipython span.cm-property,\n",
       "    .cm-s-ipython span.cm-attribute {\n",
       "        color: #688A0A;\n",
       "    }\n",
       "\n",
       "    .cm-s-ipython span.cm-keyword {\n",
       "        font-weight: normal;\n",
       "        color: #D43132;\n",
       "    }\n",
       "\n",
       "    .cm-s-ipython span.cm-string {\n",
       "        color: #D9AA00;\n",
       "    }\n",
       "\n",
       "    .cm-s-ipython span.cm-operator {\n",
       "        font-weight: normal;\n",
       "    }\n",
       "\n",
       "    .cm-s-ipython span.cm-builtin {\n",
       "        color: #2B88D9;\n",
       "    }\n",
       "\n",
       "    .cm-s-ipython span.cm-variable {\n",
       "        color: #00A397;\n",
       "    }\n",
       "\n",
       "    .cm-s-ipython span.cm-variable-2 {\n",
       "        color: #2B88D9;\n",
       "    }\n",
       "\n",
       "    .cm-s-ipython span.cm-def {\n",
       "        color: #00A397;\n",
       "    }\n",
       "\n",
       "    .cm-s-ipython span.cm-error {\n",
       "        background: #FFBDBD;\n",
       "        color: #D43132;\n",
       "    }\n",
       "\n",
       "    .cm-s-ipython span.cm-tag {\n",
       "        color: #D43132;\n",
       "    }\n",
       "\n",
       "    .cm-s-ipython span.cm-link {\n",
       "        color: #975DDE;\n",
       "    }\n",
       "\n",
       "    .cm-s-ipython .CodeMirror-matchingbracket {\n",
       "        text-decoration: underline;\n",
       "         !important;\n",
       "    }\n",
       "</style>\n",
       "\n",
       "<script>\n",
       "    MathJax.Hub.Config({\n",
       "                        TeX: {\n",
       "                           extensions: [\"AMSmath.js\"]\n",
       "                           },\n",
       "                tex2jax: {\n",
       "                    inlineMath: [ ['$','$'], [\"\\\\(\",\"\\\\)\"] ],\n",
       "                    displayMath: [ ['$$','$$'], [\"\\\\[\",\"\\\\]\"] ]\n",
       "                },\n",
       "                displayAlign: 'center', // Change this to 'center' to center equations.\n",
       "                \"HTML-CSS\": {\n",
       "                    scale:100,\n",
       "                        availableFonts: [],\n",
       "                        preferredFont:null,\n",
       "                        webFont: \"TeX\",\n",
       "                    styles: {'.MathJax_Display': {\"margin\": 4}}\n",
       "                }\n",
       "        });\n",
       "</script>"
      ],
      "text/plain": [
       "<IPython.core.display.HTML object>"
      ]
     },
     "execution_count": 1,
     "metadata": {},
     "output_type": "execute_result"
    }
   ],
   "source": [
    "# code for loading the format for the notebook\n",
    "import os\n",
    "\n",
    "# path : store the current path to convert back to it later\n",
    "path = os.getcwd()\n",
    "os.chdir(os.path.join('..', '..', 'notebook_format'))\n",
    "\n",
    "from formats import load_style\n",
    "load_style(css_style='custom2.css', plot_style=False)"
   ]
  },
  {
   "cell_type": "code",
   "execution_count": 2,
   "metadata": {},
   "outputs": [
    {
     "name": "stdout",
     "output_type": "stream",
     "text": [
      "Author: Ethen\n",
      "\n",
      "Last updated: 2023-08-09 17:58:26\n",
      "\n",
      "Python implementation: CPython\n",
      "Python version       : 3.8.10\n",
      "IPython version      : 8.8.0\n",
      "\n",
      "datasets    : 2.13.0\n",
      "transformers: 4.31.0\n",
      "torch       : 2.0.1\n",
      "tokenizers  : 0.13.3\n",
      "numpy       : 1.23.2\n",
      "pandas      : 1.5.2\n",
      "onnxruntime : 1.15.1\n",
      "\n"
     ]
    }
   ],
   "source": [
    "# os.chdir(path)\n",
    "\n",
    "# 1. magic for inline plot\n",
    "# 2. magic to print version\n",
    "# 3. magic so that the notebook will reload external python modules\n",
    "# 4. magic to enable retina (high resolution) plots\n",
    "# https://gist.github.com/minrk/3301035\n",
    "%matplotlib inline\n",
    "%load_ext watermark\n",
    "%load_ext autoreload\n",
    "%autoreload 2\n",
    "%config InlineBackend.figure_format='retina'\n",
    "\n",
    "import os\n",
    "import time\n",
    "import torch\n",
    "import numpy as np\n",
    "import pandas as pd\n",
    "import torch.nn as nn\n",
    "import matplotlib.pyplot as plt\n",
    "import sklearn.metrics as metrics\n",
    "from math import ceil\n",
    "from transformers import (\n",
    "    AutoTokenizer,\n",
    "    AutoModelForSequenceClassification,\n",
    "    TrainingArguments,\n",
    "    Trainer,\n",
    "    DataCollatorWithPadding\n",
    ")\n",
    "from tqdm import trange\n",
    "from contextlib import contextmanager\n",
    "from torch.utils.data import DataLoader\n",
    "from onnxruntime import InferenceSession, SessionOptions\n",
    "from datasets import load_dataset, DatasetDict, Dataset, disable_progress_bar\n",
    "\n",
    "# we prevent progress bar from flooding notebook console\n",
    "disable_progress_bar()\n",
    "os.environ[\"DISABLE_MLFLOW_INTEGRATION\"] = \"TRUE\"\n",
    "device = torch.device(\"cuda\" if torch.cuda.is_available() else \"cpu\")\n",
    "\n",
    "%watermark -a 'Ethen' -u -d -t -v -p datasets,transformers,torch,tokenizers,numpy,pandas,onnxruntime"
   ]
  },
  {
   "cell_type": "markdown",
   "metadata": {},
   "source": [
    "# Finetuning Pre-trained BERT Model on Text Classification Task And Inferencing with ONNX Runtime"
   ]
  },
  {
   "cell_type": "markdown",
   "metadata": {},
   "source": [
    "Using a serialized format like ONNX (Open Neural Network Exchange) [[4]](https://onnx.ai/) for inferencing instead of vanilla PyTorch has several benefits, especially when deploying machine learning models to production or sharing them across different platforms. A couple of reasons includes:\n",
    "\n",
    "- Hardware Acceleration and Optimization: ONNX supports hardware acceleration tailored to specific platforms as well as model specific optimizations such as quantization and compressions. i.e. If we have an application requiring high performance, ONNX can provide better lower latency, higher throughput, which also translates to lower cost.\n",
    "- Deployment Compatibility and Flexibility: ONNX allows us to export our models from various frameworks into an unified representation. ONNX format models can then be directly loaded and used in a variety of programming languages (Python, C++, C#, etc.), making it easier to integrate into existing applications.\n",
    "\n",
    "In this article, we'll be going over the process of converting a model into ONNX format, running inference with it, and performing benchmarks to see how it compares to vanilla PyTorch models."
   ]
  },
  {
   "cell_type": "markdown",
   "metadata": {},
   "source": [
    "## Data Preparation"
   ]
  },
  {
   "cell_type": "markdown",
   "metadata": {},
   "source": [
    "We'll be using a BERT model fine-tuned towards Quora Question Pairs [[6]](https://www.kaggle.com/c/quora-question-pairs/data), a text classification task [[1]](https://nbviewer.org/github/huggingface/notebooks/blob/main/examples/text_classification.ipynb) to serve as our example."
   ]
  },
  {
   "cell_type": "code",
   "execution_count": 3,
   "metadata": {},
   "outputs": [
    {
     "name": "stderr",
     "output_type": "stream",
     "text": [
      "WARNING:datasets.builder:Found cached dataset quora (/root/.cache/huggingface/datasets/quora/default/0.0.0/36ba4cd42107f051a158016f1bea6ae3f4685c5df843529108a54e42d86c1e04)\n"
     ]
    },
    {
     "data": {
      "text/plain": [
       "DatasetDict({\n",
       "    train: Dataset({\n",
       "        features: ['questions', 'is_duplicate'],\n",
       "        num_rows: 404290\n",
       "    })\n",
       "})"
      ]
     },
     "execution_count": 3,
     "metadata": {},
     "output_type": "execute_result"
    }
   ],
   "source": [
    "dataset_dict = load_dataset(\"quora\")\n",
    "dataset_dict"
   ]
  },
  {
   "cell_type": "code",
   "execution_count": 4,
   "metadata": {},
   "outputs": [
    {
     "data": {
      "text/plain": [
       "{'questions': {'id': [1, 2],\n",
       "  'text': ['What is the step by step guide to invest in share market in india?',\n",
       "   'What is the step by step guide to invest in share market?']},\n",
       " 'is_duplicate': False}"
      ]
     },
     "execution_count": 4,
     "metadata": {},
     "output_type": "execute_result"
    }
   ],
   "source": [
    "dataset_dict['train'][0]"
   ]
  },
  {
   "cell_type": "code",
   "execution_count": 5,
   "metadata": {},
   "outputs": [
    {
     "data": {
      "text/plain": [
       "DatasetDict({\n",
       "    train: Dataset({\n",
       "        features: ['questions', 'is_duplicate'],\n",
       "        num_rows: 327474\n",
       "    })\n",
       "    val: Dataset({\n",
       "        features: ['questions', 'is_duplicate'],\n",
       "        num_rows: 36387\n",
       "    })\n",
       "    test: Dataset({\n",
       "        features: ['questions', 'is_duplicate'],\n",
       "        num_rows: 40429\n",
       "    })\n",
       "})"
      ]
     },
     "execution_count": 5,
     "metadata": {},
     "output_type": "execute_result"
    }
   ],
   "source": [
    "test_size = 0.1\n",
    "val_size = 0.1\n",
    "dataset_dict_test = dataset_dict['train'].train_test_split(test_size=test_size)\n",
    "dataset_dict_train_val = dataset_dict_test['train'].train_test_split(test_size=val_size)\n",
    "\n",
    "dataset_dict = DatasetDict({\n",
    "    \"train\": dataset_dict_train_val[\"train\"],\n",
    "    \"val\": dataset_dict_train_val[\"test\"],\n",
    "    \"test\": dataset_dict_test[\"test\"]\n",
    "})\n",
    "dataset_dict"
   ]
  },
  {
   "cell_type": "markdown",
   "metadata": {},
   "source": [
    "## Tokenizer"
   ]
  },
  {
   "cell_type": "markdown",
   "metadata": {},
   "source": [
    "We won't be going over the details of the pre-trained tokenizer or model and only load one available from the huggingface model repository."
   ]
  },
  {
   "cell_type": "code",
   "execution_count": 6,
   "metadata": {},
   "outputs": [
    {
     "data": {
      "text/plain": [
       "DistilBertTokenizerFast(name_or_path='distilbert-base-uncased', vocab_size=30522, model_max_length=512, is_fast=True, padding_side='right', truncation_side='right', special_tokens={'unk_token': '[UNK]', 'sep_token': '[SEP]', 'pad_token': '[PAD]', 'cls_token': '[CLS]', 'mask_token': '[MASK]'}, clean_up_tokenization_spaces=True)"
      ]
     },
     "execution_count": 6,
     "metadata": {},
     "output_type": "execute_result"
    }
   ],
   "source": [
    "# https://huggingface.co/transformers/model_doc/distilbert.html\n",
    "pretrained_model_name_or_path = \"distilbert-base-uncased\"\n",
    "tokenizer = AutoTokenizer.from_pretrained(pretrained_model_name_or_path)\n",
    "tokenizer"
   ]
  },
  {
   "cell_type": "markdown",
   "metadata": {},
   "source": [
    "We can feed our tokenizer directly with a pair of sentences."
   ]
  },
  {
   "cell_type": "code",
   "execution_count": 7,
   "metadata": {},
   "outputs": [
    {
     "data": {
      "text/plain": [
       "{'input_ids': [101, 2054, 2003, 1996, 3357, 2011, 3357, 5009, 2000, 15697, 1999, 3745, 3006, 1999, 2634, 1029, 102, 2054, 2003, 1996, 3357, 2011, 3357, 5009, 2000, 15697, 1999, 3745, 3006, 1029, 102], 'attention_mask': [1, 1, 1, 1, 1, 1, 1, 1, 1, 1, 1, 1, 1, 1, 1, 1, 1, 1, 1, 1, 1, 1, 1, 1, 1, 1, 1, 1, 1, 1, 1]}"
      ]
     },
     "execution_count": 7,
     "metadata": {},
     "output_type": "execute_result"
    }
   ],
   "source": [
    "encoded_input = tokenizer(\n",
    "    \"What is the step by step guide to invest in share market in india?\",\n",
    "    \"What is the step by step guide to invest in share market?\"\n",
    ")\n",
    "encoded_input"
   ]
  },
  {
   "cell_type": "markdown",
   "metadata": {},
   "source": [
    "Decoding the tokenized inputs, this model's tokenizer adds some special tokens such as, `[SEP]`, that is used to indicate which token belongs to which segment/pair."
   ]
  },
  {
   "cell_type": "code",
   "execution_count": 8,
   "metadata": {},
   "outputs": [
    {
     "data": {
      "text/plain": [
       "'[CLS] what is the step by step guide to invest in share market in india? [SEP] what is the step by step guide to invest in share market? [SEP]'"
      ]
     },
     "execution_count": 8,
     "metadata": {},
     "output_type": "execute_result"
    }
   ],
   "source": [
    "tokenizer.decode(encoded_input[\"input_ids\"])"
   ]
  },
  {
   "cell_type": "markdown",
   "metadata": {},
   "source": [
    "The proprocessing step will be task specific, if we happen to be using another dataset, this function needs to be modified accordingly."
   ]
  },
  {
   "cell_type": "code",
   "execution_count": 9,
   "metadata": {},
   "outputs": [],
   "source": [
    "def tokenize_fn(examples):\n",
    "    labels = [int(label) for label in examples[\"is_duplicate\"]]\n",
    "    texts = [question[\"text\"] for question in examples[\"questions\"]]\n",
    "    tokenized_examples = tokenizer(texts)\n",
    "    tokenized_examples[\"labels\"] = labels\n",
    "    return tokenized_examples"
   ]
  },
  {
   "cell_type": "code",
   "execution_count": 10,
   "metadata": {},
   "outputs": [
    {
     "data": {
      "text/plain": [
       "DatasetDict({\n",
       "    train: Dataset({\n",
       "        features: ['input_ids', 'attention_mask', 'labels'],\n",
       "        num_rows: 327474\n",
       "    })\n",
       "    val: Dataset({\n",
       "        features: ['input_ids', 'attention_mask', 'labels'],\n",
       "        num_rows: 36387\n",
       "    })\n",
       "    test: Dataset({\n",
       "        features: ['input_ids', 'attention_mask', 'labels'],\n",
       "        num_rows: 40429\n",
       "    })\n",
       "})"
      ]
     },
     "execution_count": 10,
     "metadata": {},
     "output_type": "execute_result"
    }
   ],
   "source": [
    "dataset_dict_tokenized = dataset_dict.map(\n",
    "    tokenize_fn,\n",
    "    batched=True,\n",
    "    num_proc=8,\n",
    "    remove_columns=[\"is_duplicate\", \"questions\"]\n",
    ")\n",
    "dataset_dict_tokenized"
   ]
  },
  {
   "cell_type": "code",
   "execution_count": 11,
   "metadata": {},
   "outputs": [
    {
     "data": {
      "text/plain": [
       "{'input_ids': [101,\n",
       "  2054,\n",
       "  2001,\n",
       "  1996,\n",
       "  7784,\n",
       "  1997,\n",
       "  1996,\n",
       "  2645,\n",
       "  1997,\n",
       "  25158,\n",
       "  1010,\n",
       "  1998,\n",
       "  2129,\n",
       "  2106,\n",
       "  2023,\n",
       "  2645,\n",
       "  12826,\n",
       "  1998,\n",
       "  5688,\n",
       "  2000,\n",
       "  1996,\n",
       "  2645,\n",
       "  1997,\n",
       "  15544,\n",
       "  25152,\n",
       "  2232,\n",
       "  1029,\n",
       "  102,\n",
       "  2054,\n",
       "  2001,\n",
       "  1996,\n",
       "  7784,\n",
       "  1997,\n",
       "  1996,\n",
       "  2645,\n",
       "  1997,\n",
       "  25158,\n",
       "  1010,\n",
       "  1998,\n",
       "  2129,\n",
       "  2106,\n",
       "  2023,\n",
       "  2645,\n",
       "  12826,\n",
       "  1998,\n",
       "  5688,\n",
       "  2000,\n",
       "  1996,\n",
       "  2645,\n",
       "  1997,\n",
       "  2605,\n",
       "  1029,\n",
       "  102],\n",
       " 'attention_mask': [1,\n",
       "  1,\n",
       "  1,\n",
       "  1,\n",
       "  1,\n",
       "  1,\n",
       "  1,\n",
       "  1,\n",
       "  1,\n",
       "  1,\n",
       "  1,\n",
       "  1,\n",
       "  1,\n",
       "  1,\n",
       "  1,\n",
       "  1,\n",
       "  1,\n",
       "  1,\n",
       "  1,\n",
       "  1,\n",
       "  1,\n",
       "  1,\n",
       "  1,\n",
       "  1,\n",
       "  1,\n",
       "  1,\n",
       "  1,\n",
       "  1,\n",
       "  1,\n",
       "  1,\n",
       "  1,\n",
       "  1,\n",
       "  1,\n",
       "  1,\n",
       "  1,\n",
       "  1,\n",
       "  1,\n",
       "  1,\n",
       "  1,\n",
       "  1,\n",
       "  1,\n",
       "  1,\n",
       "  1,\n",
       "  1,\n",
       "  1,\n",
       "  1,\n",
       "  1,\n",
       "  1,\n",
       "  1,\n",
       "  1,\n",
       "  1,\n",
       "  1,\n",
       "  1],\n",
       " 'labels': 1}"
      ]
     },
     "execution_count": 11,
     "metadata": {},
     "output_type": "execute_result"
    }
   ],
   "source": [
    "dataset_dict_tokenized[\"train\"][0]"
   ]
  },
  {
   "cell_type": "markdown",
   "metadata": {},
   "source": [
    "## Model FineTuning"
   ]
  },
  {
   "cell_type": "markdown",
   "metadata": {},
   "source": [
    "Having preprocessed our raw dataset, for our text classification task, we use `AutoModelForSequenceClassification` class to load the pre-trained model. The only other argument we need to specify is the number of class/label our text classification task has. Upon instantiating the model for the first time, we'll see some warnings generated, telling us we should fine tune this model on our down stream tasks before using it.\n",
    "\n",
    "We'll also report standard binary classification evaluation metrics, including log loss, ROC-AUC, Average Precision (PR-AUC). As the focus is more around model inferencing, we only picked some default settings for training configuration."
   ]
  },
  {
   "cell_type": "code",
   "execution_count": 12,
   "metadata": {},
   "outputs": [],
   "source": [
    "def compute_metrics(eval_preds, round_digits: int = 3):\n",
    "    y_pred, y_true = eval_preds\n",
    "    y_score = y_pred[:, 1]\n",
    "\n",
    "    log_loss = round(metrics.log_loss(y_true, y_score), round_digits)\n",
    "    roc_auc = round(metrics.roc_auc_score(y_true, y_score), round_digits)\n",
    "    pr_auc = round(metrics.average_precision_score(y_true, y_score), round_digits)\n",
    "    return {\n",
    "        'roc_auc': roc_auc,\n",
    "        'pr_auc': pr_auc,\n",
    "        'log_loss': log_loss\n",
    "    }"
   ]
  },
  {
   "cell_type": "code",
   "execution_count": 13,
   "metadata": {},
   "outputs": [
    {
     "name": "stderr",
     "output_type": "stream",
     "text": [
      "Some weights of DistilBertForSequenceClassification were not initialized from the model checkpoint at distilbert-base-uncased and are newly initialized: ['classifier.weight', 'pre_classifier.bias', 'pre_classifier.weight', 'classifier.bias']\n",
      "You should probably TRAIN this model on a down-stream task to be able to use it for predictions and inference.\n"
     ]
    },
    {
     "name": "stdout",
     "output_type": "stream",
     "text": [
      "# of parameters:  66955010\n"
     ]
    },
    {
     "name": "stderr",
     "output_type": "stream",
     "text": [
      "/usr/local/lib/python3.8/dist-packages/transformers/optimization.py:411: FutureWarning: This implementation of AdamW is deprecated and will be removed in a future version. Use the PyTorch implementation torch.optim.AdamW instead, or set `no_deprecation_warning=True` to disable this warning\n",
      "  warnings.warn(\n",
      "You're using a DistilBertTokenizerFast tokenizer. Please note that with a fast tokenizer, using the `__call__` method is faster than using a method to encode the text followed by a call to the `pad` method to get a padded encoding.\n"
     ]
    },
    {
     "data": {
      "text/html": [
       "\n",
       "    <div>\n",
       "      \n",
       "      <progress value='2558' max='2558' style='width:300px; height:20px; vertical-align: middle;'></progress>\n",
       "      [2558/2558 05:19, Epoch 0/1]\n",
       "    </div>\n",
       "    <table border=\"1\" class=\"dataframe\">\n",
       "  <thead>\n",
       " <tr style=\"text-align: left;\">\n",
       "      <th>Step</th>\n",
       "      <th>Training Loss</th>\n",
       "      <th>Validation Loss</th>\n",
       "      <th>Loss</th>\n",
       "      <th>Roc Auc</th>\n",
       "      <th>Pr Auc</th>\n",
       "      <th>Runtime</th>\n",
       "      <th>Samples Per Second</th>\n",
       "      <th>Steps Per Second</th>\n",
       "    </tr>\n",
       "  </thead>\n",
       "  <tbody>\n",
       "    <tr>\n",
       "      <td>500</td>\n",
       "      <td>0.397300</td>\n",
       "      <td>1.217000</td>\n",
       "      <td>0.325360</td>\n",
       "      <td>0.930000</td>\n",
       "      <td>0.869000</td>\n",
       "      <td>10.278200</td>\n",
       "      <td>3540.225000</td>\n",
       "      <td>55.360000</td>\n",
       "    </tr>\n",
       "    <tr>\n",
       "      <td>1000</td>\n",
       "      <td>0.332200</td>\n",
       "      <td>1.481000</td>\n",
       "      <td>0.305294</td>\n",
       "      <td>0.938000</td>\n",
       "      <td>0.887000</td>\n",
       "      <td>10.259600</td>\n",
       "      <td>3546.636000</td>\n",
       "      <td>55.460000</td>\n",
       "    </tr>\n",
       "    <tr>\n",
       "      <td>1500</td>\n",
       "      <td>0.308400</td>\n",
       "      <td>1.176000</td>\n",
       "      <td>0.285987</td>\n",
       "      <td>0.947000</td>\n",
       "      <td>0.900000</td>\n",
       "      <td>10.261600</td>\n",
       "      <td>3545.953000</td>\n",
       "      <td>55.450000</td>\n",
       "    </tr>\n",
       "    <tr>\n",
       "      <td>2000</td>\n",
       "      <td>0.300900</td>\n",
       "      <td>1.260000</td>\n",
       "      <td>0.281945</td>\n",
       "      <td>0.948000</td>\n",
       "      <td>0.902000</td>\n",
       "      <td>10.226400</td>\n",
       "      <td>3558.136000</td>\n",
       "      <td>55.640000</td>\n",
       "    </tr>\n",
       "    <tr>\n",
       "      <td>2500</td>\n",
       "      <td>0.290300</td>\n",
       "      <td>0.924000</td>\n",
       "      <td>0.284556</td>\n",
       "      <td>0.951000</td>\n",
       "      <td>0.908000</td>\n",
       "      <td>10.243600</td>\n",
       "      <td>3552.179000</td>\n",
       "      <td>55.547000</td>\n",
       "    </tr>\n",
       "  </tbody>\n",
       "</table><p>"
      ],
      "text/plain": [
       "<IPython.core.display.HTML object>"
      ]
     },
     "metadata": {},
     "output_type": "display_data"
    },
    {
     "data": {
      "text/plain": [
       "TrainOutput(global_step=2558, training_loss=0.32501463781957796, metrics={'train_runtime': 319.8866, 'train_samples_per_second': 1023.719, 'train_steps_per_second': 7.997, 'total_flos': 6539402160476928.0, 'train_loss': 0.32501463781957796, 'epoch': 1.0})"
      ]
     },
     "execution_count": 13,
     "metadata": {},
     "output_type": "execute_result"
    }
   ],
   "source": [
    "model = AutoModelForSequenceClassification.from_pretrained(pretrained_model_name_or_path, num_labels=2)\n",
    "print('# of parameters: ', model.num_parameters())\n",
    "\n",
    "data_collator = DataCollatorWithPadding(tokenizer, padding=True)\n",
    "\n",
    "args = TrainingArguments(\n",
    "    output_dir=\"quora_model_checkpoint\",\n",
    "    learning_rate=0.0001, # 2e-5,\n",
    "    per_device_train_batch_size=64,\n",
    "    per_device_eval_batch_size=64,\n",
    "    gradient_accumulation_steps=2,\n",
    "    num_train_epochs=1,\n",
    "    weight_decay=0.01,\n",
    "    fp16=True,\n",
    "    lr_scheduler_type=\"constant\",\n",
    "    evaluation_strategy=\"steps\",\n",
    "    eval_steps=500,\n",
    "    save_strategy=\"steps\",\n",
    "    save_steps=500,\n",
    "    save_total_limit=2,\n",
    "    load_best_model_at_end=True\n",
    ")\n",
    "\n",
    "trainer = Trainer(\n",
    "    model,\n",
    "    args=args,\n",
    "    data_collator=data_collator,\n",
    "    train_dataset=dataset_dict_tokenized[\"train\"],\n",
    "    eval_dataset=dataset_dict_tokenized[\"val\"],\n",
    "    compute_metrics=compute_metrics\n",
    ")\n",
    "trainer.train()"
   ]
  },
  {
   "cell_type": "code",
   "execution_count": 14,
   "metadata": {},
   "outputs": [
    {
     "name": "stdout",
     "output_type": "stream",
     "text": [
      "# of parameters:  66955010\n"
     ]
    }
   ],
   "source": [
    "# load from the best checkpoint\n",
    "model = AutoModelForSequenceClassification.from_pretrained(trainer.state.best_model_checkpoint)\n",
    "print('# of parameters: ', model.num_parameters())"
   ]
  },
  {
   "cell_type": "markdown",
   "metadata": {},
   "source": [
    "## Onnx Runtime"
   ]
  },
  {
   "cell_type": "markdown",
   "metadata": {},
   "source": [
    "This section walks through the process of serializing our Pytorch model into ONNX format [[4]](https://onnx.ai/), and using ONNX runtime [[5]](https://www.onnxruntime.ai/) for model inferencing.\n",
    "\n",
    "Exporting the model can be done via the `torch.onnx.export` function, which requires a model, sample input as well as some model specific configurations. Crucial parameters includes:\n",
    "\n",
    "- Names of Input/Output: Instead of leaving these names blank, which would prompt the underlying engine to automatically generate them, explicitly specifying these names simplifies working with ONNX model during inference stage.\n",
    "- dynamic_axes: While exporting our model, a sample input is needed to inform the underlying engine about what size and shape our serialized model should be expecting. In this example, we also specify our first, and second axis (corresponding to batch size and sequence length) as our `dynamic_axes`. By doing so, at inference time, ONNX won't be limited to the sample input size we've provided during this serialization process."
   ]
  },
  {
   "cell_type": "code",
   "execution_count": 15,
   "metadata": {},
   "outputs": [],
   "source": [
    "samples = dataset_dict['test'][:1]\n",
    "texts = [question[\"text\"] for question in samples[\"questions\"]]\n",
    "tokenized_texts = tokenizer(texts, padding=True)\n",
    "\n",
    "input_ids = tokenized_texts[\"input_ids\"]\n",
    "attention_mask = tokenized_texts[\"attention_mask\"]\n",
    "\n",
    "input_ids_tensor = torch.LongTensor(input_ids).to(model.device)\n",
    "attention_mask_tensor = torch.LongTensor(attention_mask).to(model.device)"
   ]
  },
  {
   "cell_type": "code",
   "execution_count": 16,
   "metadata": {},
   "outputs": [
    {
     "name": "stderr",
     "output_type": "stream",
     "text": [
      "/usr/local/lib/python3.8/dist-packages/transformers/models/distilbert/modeling_distilbert.py:223: TracerWarning: torch.tensor results are registered as constants in the trace. You can safely ignore this warning if you use this function to create tensors out of constant variables that would be the same every time you call this function. In any other case, this might cause the trace to be incorrect.\n",
      "  mask, torch.tensor(torch.finfo(scores.dtype).min)\n"
     ]
    },
    {
     "name": "stdout",
     "output_type": "stream",
     "text": [
      "============= Diagnostic Run torch.onnx.export version 2.0.1+cu117 =============\n",
      "verbose: False, log level: Level.ERROR\n",
      "======================= 0 NONE 0 NOTE 0 WARNING 0 ERROR ========================\n",
      "\n"
     ]
    }
   ],
   "source": [
    "opset_version = 15\n",
    "onnx_model_path = \"text_classification.onnx\"\n",
    "\n",
    "torch.onnx.export(\n",
    "    model,\n",
    "    (input_ids_tensor, attention_mask_tensor),\n",
    "    onnx_model_path,\n",
    "    opset_version=opset_version,\n",
    "    input_names=[\"input_ids\", \"attention_mask\"],\n",
    "    output_names=[\"output\"],\n",
    "    dynamic_axes={\n",
    "        \"input_ids\": {0: \"batch_size\", 1: \"sequence_len\"},\n",
    "        \"attention_mask\": {0: \"batch_size\", 1: \"sequence_len\"},\n",
    "        \"output\": {0: \"batch_size\"},\n",
    "    }\n",
    ")"
   ]
  },
  {
   "cell_type": "markdown",
   "metadata": {},
   "source": [
    "The main entry point for using onnx runtime involves initiating the `InferenceSession` class, and passing our inputs via its `.run` method. Two things to note here:\n",
    "\n",
    "- Upon performing a model serialization from vanilla PyTorch, it's generally a good practice to ensure output parity. i.e. model output from PyTorch is identical with the model output generated by onnx runtime.\n",
    "- Once we export our model to ONNX, at run time, we technically no longer need PyTorch's associated dependencies, and only ONNX and ONNX runtime is required for inferencing."
   ]
  },
  {
   "cell_type": "code",
   "execution_count": 17,
   "metadata": {},
   "outputs": [],
   "source": [
    "def create_inference_session(\n",
    "    model_path: str,\n",
    "    intra_op_num_threads: int = 8,\n",
    "    provider: str = 'CPUExecutionProvider'\n",
    ") -> InferenceSession: \n",
    "    \"\"\"\n",
    "    Create onnx runtime InferenceSession.\n",
    "    \n",
    "    model_path : str\n",
    "        onnx model file.\n",
    "    \n",
    "    intra_op_num_threads : int\n",
    "        Remember to tune this parameter.\n",
    "    \n",
    "    provider : str\n",
    "        get_all_providers function can list all available providers.\n",
    "        e.g. CUDAExecutionProvider\n",
    "    \"\"\"\n",
    "\n",
    "    options = SessionOptions()\n",
    "    options.intra_op_num_threads = intra_op_num_threads\n",
    "\n",
    "    # load the model as a onnx graph\n",
    "    session = InferenceSession(model_path, options, providers=[provider])\n",
    "    session.disable_fallback()\n",
    "    return session"
   ]
  },
  {
   "cell_type": "code",
   "execution_count": 18,
   "metadata": {},
   "outputs": [
    {
     "name": "stdout",
     "output_type": "stream",
     "text": [
      "Exported model has been tested with ONNXRuntime, and the result looks good!\n",
      "input_ids:  [[101, 2129, 2079, 1045, 3443, 1037, 2444, 11834, 11336, 2083, 9262, 22483, 1998, 1037, 4773, 4118, 1999, 1039, 1001, 1029, 102, 2129, 2064, 1045, 2079, 1037, 4773, 11834, 2083, 2026, 18059, 1029, 102]]\n",
      "onnx output:  [[ 2.1795738 -3.1232638]]\n"
     ]
    },
    {
     "name": "stderr",
     "output_type": "stream",
     "text": [
      "2023-08-09 18:04:11.408286124 [W:onnxruntime:, session_state.cc:1169 VerifyEachNodeIsAssignedToAnEp] Some nodes were not assigned to the preferred execution providers which may or may not have an negative impact on performance. e.g. ORT explicitly assigns shape related ops to CPU to improve perf.\n",
      "2023-08-09 18:04:11.408323399 [W:onnxruntime:, session_state.cc:1171 VerifyEachNodeIsAssignedToAnEp] Rerunning with verbose output on a non-minimal build will show node assignments.\n"
     ]
    }
   ],
   "source": [
    "# pytorch inferencing\n",
    "model.eval()\n",
    "with torch.no_grad():\n",
    "    torch_output = model(input_ids_tensor, attention_mask_tensor).logits.detach().cpu().numpy()\n",
    "\n",
    "\n",
    "# onnx runtime inferencing\n",
    "input_feed = {\n",
    "    \"input_ids\": np.array(input_ids),\n",
    "    \"attention_mask\": np.array(attention_mask)\n",
    "}\n",
    "session = create_inference_session(onnx_model_path, provider=\"CUDAExecutionProvider\")\n",
    "onnx_output = session.run(output_names=[\"output\"], input_feed=input_feed)[0]\n",
    "\n",
    "if np.allclose(torch_output, onnx_output, atol=1e-5):\n",
    "    print(\"Exported model has been tested with ONNXRuntime, and the result looks good!\")\n",
    "\n",
    "print(\"input_ids: \", input_ids)\n",
    "print(\"onnx output: \", onnx_output)"
   ]
  },
  {
   "cell_type": "markdown",
   "metadata": {},
   "source": [
    "The next few section runs the benchmark on different batch sizes and inferencing options."
   ]
  },
  {
   "cell_type": "code",
   "execution_count": 19,
   "metadata": {},
   "outputs": [],
   "source": [
    "@contextmanager\n",
    "def track_inference_time(buffer):\n",
    "    start = time.perf_counter()\n",
    "    yield\n",
    "    end = time.perf_counter()\n",
    "    elasped_time = (end - start)\n",
    "    buffer.append(elasped_time)"
   ]
  },
  {
   "cell_type": "code",
   "execution_count": 20,
   "metadata": {},
   "outputs": [],
   "source": [
    "class Benchmark:\n",
    "    \"\"\"\n",
    "    Class to benchmark pytorch and onnx serialized models.\n",
    "    Each benchmark* method runs the model for n_rounds and\n",
    "    reports the average time it took to run inference.\n",
    "    \"\"\"\n",
    "\n",
    "    def __init__(\n",
    "        self,\n",
    "        model_pytorch: nn.Module,\n",
    "        model_onnx: InferenceSession,\n",
    "        n_rounds = 50,\n",
    "        n_warmup_rounds: int = 0\n",
    "    ):\n",
    "        self.model_pytorch = model_pytorch\n",
    "        self.model_onnx = model_onnx\n",
    "        self.n_rounds = n_rounds\n",
    "        self.n_warmup_rounds = n_warmup_rounds\n",
    "\n",
    "    def benchmark_pytorch(self, input_ids, attention_mask):\n",
    "        \"\"\"Expects the input_ids to be padded to the same sequence length.\"\"\"\n",
    "        device = self.model_pytorch.device\n",
    "        input_ids_tensor = torch.LongTensor(input_ids).to(device)\n",
    "        attention_mask_tensor = torch.LongTensor(attention_mask).to(device)\n",
    "        \n",
    "        for _ in range(self.n_warmup_rounds):\n",
    "            self.model_pytorch(input_ids_tensor, attention_mask_tensor)\n",
    "\n",
    "        time_buffer = []\n",
    "        for _ in range(self.n_rounds):\n",
    "            with track_inference_time(time_buffer):\n",
    "                self.model_pytorch(input_ids_tensor, attention_mask_tensor).logits.detach().cpu().numpy()\n",
    "        \n",
    "        avg_elapsed_time = np.mean(time_buffer)\n",
    "        return avg_elapsed_time\n",
    "    \n",
    "    def benchmark_onnx(self, input_ids, attention_mask):\n",
    "        \"\"\"Expects the input_ids to be padded to the same sequence length.\"\"\"\n",
    "        input_feed = {\n",
    "            \"input_ids\": input_ids,\n",
    "            \"attention_mask\": attention_mask\n",
    "        }\n",
    "\n",
    "        for _ in range(self.n_warmup_rounds):\n",
    "            self.model_onnx.run([\"output\"], input_feed)[0]\n",
    "\n",
    "        time_buffer = []\n",
    "        for _ in range(self.n_rounds):\n",
    "            with track_inference_time(time_buffer):\n",
    "                onnx_output = self.model_onnx.run([\"output\"], input_feed)[0]\n",
    "\n",
    "        avg_elapsed_time = np.mean(time_buffer)\n",
    "        return avg_elapsed_time\n",
    "    \n",
    "    def benchmark_dynamic_onnx(self, input_ids, attention_mask):\n",
    "        \"\"\"\n",
    "        Expects the input ids to be of dynamic size (i.e. non-padded).\n",
    "        \"\"\"\n",
    "        input_feed = {\n",
    "            \"input_ids\": input_ids,\n",
    "            \"attention_mask\": attention_mask\n",
    "        }\n",
    "        for _ in range(self.n_warmup_rounds):\n",
    "            self.model_onnx.run([\"output\"], input_feed)[0]\n",
    "\n",
    "        time_buffer = []\n",
    "        for _ in range(self.n_rounds):\n",
    "            with track_inference_time(time_buffer):\n",
    "                batch_onnx_output = []\n",
    "                for input_id, mask in zip(input_ids, attention_mask):\n",
    "                    input_feed = {\"input_ids\": [input_id], \"attention_mask\": [mask]}\n",
    "                    onnx_output = self.model_onnx.run([\"output\"], input_feed)[0]\n",
    "                    batch_onnx_output.append(onnx_output)\n",
    "\n",
    "                outputs = np.concatenate(batch_onnx_output)\n",
    "\n",
    "        avg_elapsed_time = np.mean(time_buffer)\n",
    "        return avg_elapsed_time"
   ]
  },
  {
   "cell_type": "code",
   "execution_count": 21,
   "metadata": {},
   "outputs": [
    {
     "name": "stderr",
     "output_type": "stream",
     "text": [
      "2023-08-09 18:04:12.261978119 [W:onnxruntime:, session_state.cc:1169 VerifyEachNodeIsAssignedToAnEp] Some nodes were not assigned to the preferred execution providers which may or may not have an negative impact on performance. e.g. ORT explicitly assigns shape related ops to CPU to improve perf.\n",
      "2023-08-09 18:04:12.262011382 [W:onnxruntime:, session_state.cc:1171 VerifyEachNodeIsAssignedToAnEp] Rerunning with verbose output on a non-minimal build will show node assignments.\n"
     ]
    },
    {
     "data": {
      "text/plain": [
       "{'pytorch_gpu': [125.28, 461.8, 953.71, 1585.61, 1726.07, 1821.52],\n",
       " 'onnx_gpu': [491.18, 1504.06, 1438.97, 1623.95, 1768.59, 1813.98]}"
      ]
     },
     "execution_count": 21,
     "metadata": {},
     "output_type": "execute_result"
    }
   ],
   "source": [
    "# benchmark on GPU\n",
    "model.eval()\n",
    "model.to(\"cuda\")\n",
    "session = create_inference_session(onnx_model_path, provider=\"CUDAExecutionProvider\")\n",
    "benchmark = Benchmark(model, session, n_rounds=50)\n",
    "\n",
    "batch_sizes = [1, 4, 8, 16, 32, 64]\n",
    "\n",
    "# {model_option: [throughput number for each batch size]}\n",
    "# e.g. {pytorch_gpu: [10.0, 12.0]}\n",
    "batch_throughput_results = {}\n",
    "for batch_size in batch_sizes:\n",
    "    # tokenize & pad the raw text\n",
    "    samples = dataset_dict[\"test\"][:batch_size]\n",
    "    texts = [question[\"text\"] for question in samples[\"questions\"]]\n",
    "    tokenized_texts = tokenizer(texts, padding=True)\n",
    "\n",
    "    input_ids = tokenized_texts[\"input_ids\"]\n",
    "    attention_mask = tokenized_texts[\"attention_mask\"]\n",
    "\n",
    "    pytorch_gpu_avg_elapsed_time = benchmark.benchmark_pytorch(input_ids, attention_mask)\n",
    "    onnx_gpu_avg_elapsed_time = benchmark.benchmark_onnx(input_ids, attention_mask)\n",
    "\n",
    "    throughput_results = {\n",
    "        \"pytorch_gpu\": round(batch_size / pytorch_gpu_avg_elapsed_time, 2),\n",
    "        \"onnx_gpu\": round(batch_size / onnx_gpu_avg_elapsed_time, 2)\n",
    "    }\n",
    "\n",
    "    for model_option, throughput in throughput_results.items():\n",
    "        if model_option in batch_throughput_results:\n",
    "            batch_throughput_results[model_option].append(throughput)\n",
    "        else:\n",
    "            batch_throughput_results[model_option] = [throughput]\n",
    "\n",
    "batch_throughput_results"
   ]
  },
  {
   "cell_type": "code",
   "execution_count": 22,
   "metadata": {},
   "outputs": [],
   "source": [
    "def plot_throughput(batch_throughput_results, batch_sizes):\n",
    "    fig = plt.figure(figsize=(10, 5))\n",
    "\n",
    "    bar_width = 0.3\n",
    "    br_list = np.arange(len(batch_sizes))\n",
    "    for i, (model_name, throughput_list) in enumerate(batch_throughput_results.items()):\n",
    "        br = br_list + (i * bar_width)\n",
    "        plt.bar(br, throughput_list, width=bar_width, label=model_name)\n",
    "\n",
    "    i = ceil(len(batch_throughput_results) / 2)\n",
    "    ticks = br_list + i * bar_width / 2\n",
    "    plt.xticks(ticks, batch_sizes)\n",
    "    plt.xlabel(\"Batch Size\")\n",
    "    plt.ylabel(\"Throughput (samples/s)\")\n",
    "    plt.title(\"Model Throughput Comparison\")\n",
    "    plt.legend(fontsize=8, loc=\"upper left\")\n",
    "    plt.show()"
   ]
  },
  {
   "cell_type": "code",
   "execution_count": 23,
   "metadata": {},
   "outputs": [
    {
     "data": {
      "image/png": "[encoded data removed]",
      "text/plain": [
       "<Figure size 1000x500 with 1 Axes>"
      ]
     },
     "metadata": {
      "image/png": {
       "height": 469,
       "width": 859
      }
     },
     "output_type": "display_data"
    }
   ],
   "source": [
    "plot_throughput(batch_throughput_results, batch_sizes)"
   ]
  },
  {
   "cell_type": "code",
   "execution_count": 24,
   "metadata": {},
   "outputs": [
    {
     "data": {
      "text/plain": [
       "{'pytorch_cpu': [40.2, 52.56, 34.25, 38.65],\n",
       " 'onnx_cpu': [55.48, 64.06, 35.37, 36.33],\n",
       " 'dynamic_onnx_cpu': [56.36, 53.95, 40.64, 55.6]}"
      ]
     },
     "execution_count": 24,
     "metadata": {},
     "output_type": "execute_result"
    }
   ],
   "source": [
    "# benchmark on CPU\n",
    "model.eval()\n",
    "model.to(\"cpu\")\n",
    "session = create_inference_session(\n",
    "    onnx_model_path,\n",
    "    intra_op_num_threads=8,\n",
    "    provider=\"CPUExecutionProvider\"\n",
    ")\n",
    "benchmark = Benchmark(model, session, n_rounds=50)\n",
    "\n",
    "batch_sizes = [1, 4, 8, 16]\n",
    "\n",
    "# {model_option: [throughput number for each batch size]}\n",
    "# e.g. {pytorch_cpu: [10.0, 12.0]}\n",
    "batch_throughput_results = {}\n",
    "for batch_size in batch_sizes:\n",
    "    # tokenize & pad the raw text\n",
    "    samples = dataset_dict['test'][:batch_size]\n",
    "    texts = [question[\"text\"] for question in samples[\"questions\"]]\n",
    "    tokenized_texts = tokenizer(texts, padding=True)\n",
    "    input_ids = tokenized_texts[\"input_ids\"]\n",
    "    attention_mask = tokenized_texts[\"attention_mask\"]\n",
    "\n",
    "    pytorch_cpu_avg_elapsed_time = benchmark.benchmark_pytorch(input_ids, attention_mask)\n",
    "    onnx_cpu_avg_elapsed_time = benchmark.benchmark_onnx(input_ids, attention_mask)\n",
    "    \n",
    "    tokenized_texts = tokenizer(texts)\n",
    "    input_ids = tokenized_texts[\"input_ids\"]\n",
    "    attention_mask = tokenized_texts[\"attention_mask\"]\n",
    "    dynamic_onnx_cpu_avg_elapsed_time = benchmark.benchmark_dynamic_onnx(input_ids, attention_mask)\n",
    "\n",
    "    throughput_results = {\n",
    "        \"pytorch_cpu\": round(batch_size / pytorch_cpu_avg_elapsed_time, 2),\n",
    "        \"onnx_cpu\": round(batch_size / onnx_cpu_avg_elapsed_time, 2),\n",
    "        \"dynamic_onnx_cpu\": round(batch_size / dynamic_onnx_cpu_avg_elapsed_time, 2)\n",
    "    }\n",
    "\n",
    "    for model_option, throughput in throughput_results.items():\n",
    "        if model_option in batch_throughput_results:\n",
    "            batch_throughput_results[model_option].append(throughput)\n",
    "        else:\n",
    "            batch_throughput_results[model_option] = [throughput]\n",
    "\n",
    "batch_throughput_results"
   ]
  },
  {
   "cell_type": "code",
   "execution_count": 25,
   "metadata": {},
   "outputs": [
    {
     "data": {
      "image/png": "[encoded data removed]",
      "text/plain": [
       "<Figure size 1000x500 with 1 Axes>"
      ]
     },
     "metadata": {
      "image/png": {
       "height": 469,
       "width": 842
      }
     },
     "output_type": "display_data"
    }
   ],
   "source": [
    "plot_throughput(batch_throughput_results, batch_sizes)"
   ]
  },
  {
   "cell_type": "markdown",
   "metadata": {},
   "source": [
    "A couple of observations from the benchmark table and graph above.\n",
    "\n",
    "- For GPU inferencing, on small batch sizes, we see a signficant throughput improvement via ONNX. e.g. for a batch size of 4, we're seeing 3x improvements. Though this improvement diminishes as batch size grows larger. - GPU benchmark number was ran on a single V100 GPU, it will be best to run these numbers on the targeted machine we'll be using to perform these inferencing.\n",
    "- For CPU inferencing, a similar trend can be observed. With one important difference being: A common practice in GPU settings is to work with batched and padded data. i.e. Each batch of data are all padded to a fixed sequence length. Doing this degrades the performance for CPU inferencing, which has a lot less parallelism in place compared to GPU. Hence when conducting inferencing on a CPU, for larger batch size, it can be beneficial to perform dynamic sequence length inferencing, with one example at a time.\n",
    "\n",
    "We've only scratched the surface on what's possible in terms of speeding up our models for inferencing. There're additional techniques such as quantization [[3]](https://medium.com/microsoftazure/faster-and-smaller-quantized-nlp-with-hugging-face-and-onnx-runtime-ec5525473bb7) [[7]](https://cloudblogs.microsoft.com/opensource/2022/04/19/scaling-up-pytorch-inference-serving-billions-of-daily-nlp-inferences-with-onnx-runtime/) and compression that we haven't covered. And in terms of model serialization, there're also various tools out there, with ONNX + ONNX runtime being just one of them. But hopefully, this introduction helps build an understanding that for model deployment, there's an additional model serialization step that is commonly used to optimize inference efficiency as well as development experience."
   ]
  },
  {
   "cell_type": "markdown",
   "metadata": {},
   "source": [
    "# Reference"
   ]
  },
  {
   "cell_type": "markdown",
   "metadata": {},
   "source": [
    "- [[1]](https://nbviewer.org/github/huggingface/notebooks/blob/main/examples/text_classification.ipynb) Jupyter Notebook: Fine-tuning a model on a text classification task\n",
    "- [[2]](https://nbviewer.org/github/huggingface/notebooks/blob/main/examples/onnx-export.ipynb) Jupyter Notebook: Exporting transformers model to ONNX\n",
    "- [[3]](https://medium.com/microsoftazure/faster-and-smaller-quantized-nlp-with-hugging-face-and-onnx-runtime-ec5525473bb7) Blog: Faster and smaller quantized NLP with Hugging Face and ONNX Runtime\n",
    "- [[4]](https://onnx.ai/) ONNX\n",
    "- [[5]](https://www.onnxruntime.ai/) ONNX runtime\n",
    "- [[6]](https://www.kaggle.com/c/quora-question-pairs/data) Kaggle: Quora Question Pairs\n",
    "- [[7]](https://cloudblogs.microsoft.com/opensource/2022/04/19/scaling-up-pytorch-inference-serving-billions-of-daily-nlp-inferences-with-onnx-runtime/) Scaling-up PyTorch inference: Serving billions of daily NLP inferences with ONNX Runtime"
   ]
  }
 ],
 "metadata": {
  "kernelspec": {
   "display_name": "Python 3 (ipykernel)",
   "language": "python",
   "name": "python3"
  },
  "language_info": {
   "codemirror_mode": {
    "name": "ipython",
    "version": 3
   },
   "file_extension": ".py",
   "mimetype": "text/x-python",
   "name": "python",
   "nbconvert_exporter": "python",
   "pygments_lexer": "ipython3",
   "version": "3.9.12"
  },
  "toc": {
   "base_numbering": 1,
   "nav_menu": {},
   "number_sections": true,
   "sideBar": true,
   "skip_h1_title": false,
   "title_cell": "Table of Contents",
   "title_sidebar": "Contents",
   "toc_cell": true,
   "toc_position": {
    "height": "calc(100% - 180px)",
    "left": "10px",
    "top": "150px",
    "width": "262.797px"
   },
   "toc_section_display": true,
   "toc_window_display": true
  },
  "varInspector": {
   "cols": {
    "lenName": 16,
    "lenType": 16,
    "lenVar": 40
   },
   "kernels_config": {
    "python": {
     "delete_cmd_postfix": "",
     "delete_cmd_prefix": "del ",
     "library": "var_list.py",
     "varRefreshCmd": "print(var_dic_list())"
    },
    "r": {
     "delete_cmd_postfix": ") ",
     "delete_cmd_prefix": "rm(",
     "library": "var_list.r",
     "varRefreshCmd": "cat(var_dic_list()) "
    }
   },
   "types_to_exclude": [
    "module",
    "function",
    "builtin_function_or_method",
    "instance",
    "_Feature"
   ],
   "window_display": false
  }
 },
 "nbformat": 4,
 "nbformat_minor": 4
}
